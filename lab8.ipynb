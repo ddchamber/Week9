{
 "cells": [
  {
   "cell_type": "raw",
   "metadata": {
    "vscode": {
     "languageId": "raw"
    }
   },
   "source": [
    "---\n",
    "title: \"lab 8 : Cannabis Types - Linear Classifiers\"\n",
    "author: Daniel Chamberlin\n",
    "format:\n",
    "  html:\n",
    "    theme: cerulean \n",
    "    toc: true\n",
    "    embed-resources: true\n",
    "---"
   ]
  },
  {
   "cell_type": "markdown",
   "metadata": {},
   "source": [
    "# Instructions\n",
    "You will submit an HTML document to Canvas as your final version.\n",
    "\n",
    "Your document should show your code chunks/cells as well as any output. Make sure that only relevant output is printed. Do not, for example, print the entire dataset in your final rendered file.\n",
    "\n",
    "Your document should also be clearly organized, so that it is easy for a reader to find your answers to each question.\n",
    "\n",
    "# The Data\n",
    "This week, we consider a dataset generated from text data.\n",
    "\n",
    "The original dataset can be found here: https://www.kaggle.com/datasets/kingburrito666/cannabis-strains. It consists of user reviews of different strains of cannabis. Users rated their experience with the cannabis strain on a scale of 1 to 5. They also selected words from a long list to describe the Effects and the Flavor of the cannabis.\n",
    "\n",
    "In the dataset linked above, each row is one strain of cannabis. The average rating of all testers is reported, as well as the most commonly used words for the effect and flavor.\n",
    "\n",
    "Some data cleaning has been performed for you: The Effect and Flavor columns have been converted to dummy variables indicating if the particular word was used for the particular strain.\n",
    "\n",
    "This cleaned data can be found at: https://www.dropbox.com/s/s2a1uoiegitupjc/cannabis_full.csv\n",
    "\n",
    "Our goal will be to fit models that identify the Sativa types from the Indica types, and then to fit models that also distinguish the Hybrid types.\n",
    "\n",
    "**IMPORTANT**: In this assignment, you do not need to consider different feature sets. Normally, this would be a good thing to try - but for this homework, simply include all the predictors for every model.\n"
   ]
  },
  {
   "cell_type": "code",
   "execution_count": 3,
   "metadata": {},
   "outputs": [
    {
     "data": {
      "text/html": [
       "<div>\n",
       "<style scoped>\n",
       "    .dataframe tbody tr th:only-of-type {\n",
       "        vertical-align: middle;\n",
       "    }\n",
       "\n",
       "    .dataframe tbody tr th {\n",
       "        vertical-align: top;\n",
       "    }\n",
       "\n",
       "    .dataframe thead th {\n",
       "        text-align: right;\n",
       "    }\n",
       "</style>\n",
       "<table border=\"1\" class=\"dataframe\">\n",
       "  <thead>\n",
       "    <tr style=\"text-align: right;\">\n",
       "      <th></th>\n",
       "      <th>Strain</th>\n",
       "      <th>Type</th>\n",
       "      <th>Rating</th>\n",
       "      <th>Effects</th>\n",
       "      <th>Flavor</th>\n",
       "      <th>Creative</th>\n",
       "      <th>Energetic</th>\n",
       "      <th>Tingly</th>\n",
       "      <th>Euphoric</th>\n",
       "      <th>Relaxed</th>\n",
       "      <th>...</th>\n",
       "      <th>Ammonia</th>\n",
       "      <th>Minty</th>\n",
       "      <th>Tree</th>\n",
       "      <th>Fruit</th>\n",
       "      <th>Butter</th>\n",
       "      <th>Pineapple</th>\n",
       "      <th>Tar</th>\n",
       "      <th>Rose</th>\n",
       "      <th>Plum</th>\n",
       "      <th>Pear</th>\n",
       "    </tr>\n",
       "  </thead>\n",
       "  <tbody>\n",
       "    <tr>\n",
       "      <th>0</th>\n",
       "      <td>100-Og</td>\n",
       "      <td>hybrid</td>\n",
       "      <td>4.0</td>\n",
       "      <td>Creative,Energetic,Tingly,Euphoric,Relaxed</td>\n",
       "      <td>Earthy,Sweet,Citrus</td>\n",
       "      <td>1.0</td>\n",
       "      <td>1.0</td>\n",
       "      <td>1.0</td>\n",
       "      <td>1.0</td>\n",
       "      <td>1.0</td>\n",
       "      <td>...</td>\n",
       "      <td>0.0</td>\n",
       "      <td>0.0</td>\n",
       "      <td>0.0</td>\n",
       "      <td>0.0</td>\n",
       "      <td>0.0</td>\n",
       "      <td>0.0</td>\n",
       "      <td>0.0</td>\n",
       "      <td>0.0</td>\n",
       "      <td>0.0</td>\n",
       "      <td>0.0</td>\n",
       "    </tr>\n",
       "    <tr>\n",
       "      <th>1</th>\n",
       "      <td>98-White-Widow</td>\n",
       "      <td>hybrid</td>\n",
       "      <td>4.7</td>\n",
       "      <td>Relaxed,Aroused,Creative,Happy,Energetic</td>\n",
       "      <td>Flowery,Violet,Diesel</td>\n",
       "      <td>1.0</td>\n",
       "      <td>1.0</td>\n",
       "      <td>0.0</td>\n",
       "      <td>0.0</td>\n",
       "      <td>1.0</td>\n",
       "      <td>...</td>\n",
       "      <td>0.0</td>\n",
       "      <td>0.0</td>\n",
       "      <td>0.0</td>\n",
       "      <td>0.0</td>\n",
       "      <td>0.0</td>\n",
       "      <td>0.0</td>\n",
       "      <td>0.0</td>\n",
       "      <td>0.0</td>\n",
       "      <td>0.0</td>\n",
       "      <td>0.0</td>\n",
       "    </tr>\n",
       "    <tr>\n",
       "      <th>2</th>\n",
       "      <td>1024</td>\n",
       "      <td>sativa</td>\n",
       "      <td>4.4</td>\n",
       "      <td>Uplifted,Happy,Relaxed,Energetic,Creative</td>\n",
       "      <td>Spicy/Herbal,Sage,Woody</td>\n",
       "      <td>1.0</td>\n",
       "      <td>1.0</td>\n",
       "      <td>0.0</td>\n",
       "      <td>0.0</td>\n",
       "      <td>1.0</td>\n",
       "      <td>...</td>\n",
       "      <td>0.0</td>\n",
       "      <td>0.0</td>\n",
       "      <td>0.0</td>\n",
       "      <td>0.0</td>\n",
       "      <td>0.0</td>\n",
       "      <td>0.0</td>\n",
       "      <td>0.0</td>\n",
       "      <td>0.0</td>\n",
       "      <td>0.0</td>\n",
       "      <td>0.0</td>\n",
       "    </tr>\n",
       "    <tr>\n",
       "      <th>3</th>\n",
       "      <td>13-Dawgs</td>\n",
       "      <td>hybrid</td>\n",
       "      <td>4.2</td>\n",
       "      <td>Tingly,Creative,Hungry,Relaxed,Uplifted</td>\n",
       "      <td>Apricot,Citrus,Grapefruit</td>\n",
       "      <td>1.0</td>\n",
       "      <td>0.0</td>\n",
       "      <td>1.0</td>\n",
       "      <td>0.0</td>\n",
       "      <td>1.0</td>\n",
       "      <td>...</td>\n",
       "      <td>0.0</td>\n",
       "      <td>0.0</td>\n",
       "      <td>0.0</td>\n",
       "      <td>0.0</td>\n",
       "      <td>0.0</td>\n",
       "      <td>0.0</td>\n",
       "      <td>0.0</td>\n",
       "      <td>0.0</td>\n",
       "      <td>0.0</td>\n",
       "      <td>0.0</td>\n",
       "    </tr>\n",
       "    <tr>\n",
       "      <th>4</th>\n",
       "      <td>24K-Gold</td>\n",
       "      <td>hybrid</td>\n",
       "      <td>4.6</td>\n",
       "      <td>Happy,Relaxed,Euphoric,Uplifted,Talkative</td>\n",
       "      <td>Citrus,Earthy,Orange</td>\n",
       "      <td>0.0</td>\n",
       "      <td>0.0</td>\n",
       "      <td>0.0</td>\n",
       "      <td>1.0</td>\n",
       "      <td>1.0</td>\n",
       "      <td>...</td>\n",
       "      <td>0.0</td>\n",
       "      <td>0.0</td>\n",
       "      <td>0.0</td>\n",
       "      <td>0.0</td>\n",
       "      <td>0.0</td>\n",
       "      <td>0.0</td>\n",
       "      <td>0.0</td>\n",
       "      <td>0.0</td>\n",
       "      <td>0.0</td>\n",
       "      <td>0.0</td>\n",
       "    </tr>\n",
       "  </tbody>\n",
       "</table>\n",
       "<p>5 rows × 69 columns</p>\n",
       "</div>"
      ],
      "text/plain": [
       "           Strain    Type  Rating                                     Effects  \\\n",
       "0          100-Og  hybrid     4.0  Creative,Energetic,Tingly,Euphoric,Relaxed   \n",
       "1  98-White-Widow  hybrid     4.7    Relaxed,Aroused,Creative,Happy,Energetic   \n",
       "2            1024  sativa     4.4   Uplifted,Happy,Relaxed,Energetic,Creative   \n",
       "3        13-Dawgs  hybrid     4.2     Tingly,Creative,Hungry,Relaxed,Uplifted   \n",
       "4        24K-Gold  hybrid     4.6   Happy,Relaxed,Euphoric,Uplifted,Talkative   \n",
       "\n",
       "                      Flavor  Creative  Energetic  Tingly  Euphoric  Relaxed  \\\n",
       "0        Earthy,Sweet,Citrus       1.0        1.0     1.0       1.0      1.0   \n",
       "1      Flowery,Violet,Diesel       1.0        1.0     0.0       0.0      1.0   \n",
       "2    Spicy/Herbal,Sage,Woody       1.0        1.0     0.0       0.0      1.0   \n",
       "3  Apricot,Citrus,Grapefruit       1.0        0.0     1.0       0.0      1.0   \n",
       "4       Citrus,Earthy,Orange       0.0        0.0     0.0       1.0      1.0   \n",
       "\n",
       "   ...  Ammonia  Minty  Tree  Fruit  Butter  Pineapple  Tar  Rose  Plum  Pear  \n",
       "0  ...      0.0    0.0   0.0    0.0     0.0        0.0  0.0   0.0   0.0   0.0  \n",
       "1  ...      0.0    0.0   0.0    0.0     0.0        0.0  0.0   0.0   0.0   0.0  \n",
       "2  ...      0.0    0.0   0.0    0.0     0.0        0.0  0.0   0.0   0.0   0.0  \n",
       "3  ...      0.0    0.0   0.0    0.0     0.0        0.0  0.0   0.0   0.0   0.0  \n",
       "4  ...      0.0    0.0   0.0    0.0     0.0        0.0  0.0   0.0   0.0   0.0  \n",
       "\n",
       "[5 rows x 69 columns]"
      ]
     },
     "execution_count": 3,
     "metadata": {},
     "output_type": "execute_result"
    }
   ],
   "source": [
    "import pandas as pd\n",
    "\n",
    "can = pd.read_csv(\"/Users/dan/calpoly/BusinessAnalytics/GSB544MACHINE/Week9/data/cannabis_full.csv\")\n",
    "can.head()"
   ]
  },
  {
   "cell_type": "markdown",
   "metadata": {},
   "source": [
    "\n",
    "# Part One: Binary Classification\n",
    "Create a dataset that is limited only to the Sativa and Indica type cannabis strains.\n",
    "\n",
    "This section asks you to create a final best model for each of the four new model types studied this week: LDA, QDA, SVC, and SVM. For SVM, you may limit yourself to only the polynomial kernel.\n",
    "\n",
    "For each, you should:\n",
    "\n",
    "- Choose a metric you will use to select your model, and briefly justify your choice. *(Hint: There is no specific target category here, so this should not be a metric that only prioritizes one category.)*\n",
    "\n",
    "- Find the best model for predicting the Type variable. Don’t forget to tune any hyperparameters.\n",
    "\n",
    "- Report the (cross-validated!) metric.\n",
    "\n",
    "- Fit the final model.\n",
    "\n",
    "- Output a confusion matrix.\n"
   ]
  },
  {
   "cell_type": "markdown",
   "metadata": {},
   "source": [
    "In this section we will be using F1-Score as our metric. This is because F1-Score balances precision and recall, making it a useful metric when false positives and false negatives matter equally; and in this case we want to classify both strands equally."
   ]
  },
  {
   "cell_type": "code",
   "execution_count": 37,
   "metadata": {},
   "outputs": [],
   "source": [
    "import numpy as np\n",
    "from sklearn.pipeline import Pipeline\n",
    "from sklearn.model_selection import cross_val_score\n",
    "from sklearn.discriminant_analysis import LinearDiscriminantAnalysis\n",
    "from sklearn.preprocessing import StandardScaler\n",
    "from sklearn.pipeline import make_pipeline\n",
    "from sklearn.model_selection import GridSearchCV\n",
    "from sklearn.preprocessing import StandardScaler, OneHotEncoder\n",
    "from sklearn.discriminant_analysis import QuadraticDiscriminantAnalysis\n",
    "from sklearn.model_selection import train_test_split\n",
    "from sklearn.svm import SVC\n",
    "from sklearn.impute import SimpleImputer\n",
    "from sklearn.metrics import confusion_matrix, ConfusionMatrixDisplay\n",
    "from sklearn.compose import ColumnTransformer, make_column_selector\n",
    "\n",
    "\n",
    "ct = ColumnTransformer(\n",
    "  [\n",
    "    (\"impute_cat\", SimpleImputer(strategy='most_frequent'), make_column_selector(dtype_include=object)),\n",
    "    (\"impute_num\", SimpleImputer(strategy='mean'), make_column_selector(dtype_include=np.number)),\n",
    "    (\"dummify\", OneHotEncoder(sparse_output = False, handle_unknown='ignore'), make_column_selector(dtype_include=object)),\n",
    "    (\"standardize\", StandardScaler(), make_column_selector(dtype_include=np.number))\n",
    "  ],\n",
    "  remainder = \"passthrough\"\n",
    ")\n",
    "\n",
    "sativa_indica = can[(can['Type'] == 'sativa') | (can['Type'] == 'indica')]\n",
    "sativa_indica = sativa_indica.dropna()\n",
    "sativa_indica = sativa_indica.drop(columns=\"Strain\")\n",
    "sativa_indica[\"type_binary\"] = (sativa_indica[\"Type\"] == \"sativa\").astype(int)\n",
    "\n",
    "y = sativa_indica[\"type_binary\"]\n",
    "X = sativa_indica.drop(columns= [\"Type\", \"type_binary\",\"Effects\",\"Flavor\"])\n",
    "X_train, X_test, y_train, y_test = train_test_split(X, y, random_state=42, stratify=y)"
   ]
  },
  {
   "cell_type": "markdown",
   "metadata": {},
   "source": [
    "\n",
    "#### Q1: LDA\n"
   ]
  },
  {
   "cell_type": "code",
   "execution_count": 49,
   "metadata": {},
   "outputs": [
    {
     "name": "stdout",
     "output_type": "stream",
     "text": [
      "Best LDA parameters: {'regressor__tol': 0.0001}\n",
      "\n",
      "Best F1 Score: 0.8133005431902489\n",
      "\n",
      "Confusion Matrix:\n",
      " [[151  14]\n",
      " [ 19  83]]\n"
     ]
    }
   ],
   "source": [
    "pipeline_lda = Pipeline(steps=[\n",
    "    ('preprocessor', ct),\n",
    "    ('regressor', LinearDiscriminantAnalysis(solver='lsqr', shrinkage='auto'))\n",
    "])\n",
    "\n",
    "# Create grid for tuning\n",
    "lda_params = { \n",
    "    'regressor__tol': [1e-4, 1e-3, 1e-2]  # Tolerance for optimization\n",
    "}\n",
    "\n",
    "# Perform grid search\n",
    "lda_grid = GridSearchCV(pipeline_lda, lda_params, cv=5, scoring='f1')\n",
    "best_lda = lda_grid.fit(X_train, y_train)\n",
    "\n",
    "y_pred_lda = lda_grid.best_estimator_.predict(X_test)\n",
    "print(f\"Best LDA parameters: {lda_grid.best_params_}\")\n",
    "print(f\"\\nBest F1 Score: {lda_grid.best_score_}\")\n",
    "print(\"\\nConfusion Matrix:\\n\",confusion_matrix(y_test, y_pred_lda))"
   ]
  },
  {
   "cell_type": "markdown",
   "metadata": {},
   "source": [
    "#### Q2: QDA\n"
   ]
  },
  {
   "cell_type": "code",
   "execution_count": 50,
   "metadata": {},
   "outputs": [
    {
     "name": "stdout",
     "output_type": "stream",
     "text": [
      "Best QDA parameters: {'regressor__reg_param': 0.5}\n",
      "\n",
      "Best F1 Score: 0.7442644212156406\n",
      "\n",
      "Confusion Matrix:\n",
      " [[135  30]\n",
      " [ 15  87]]\n"
     ]
    }
   ],
   "source": [
    "import warnings\n",
    "warnings.filterwarnings(\"ignore\", category=UserWarning)\n",
    "\n",
    "\n",
    "pipeline_qda = Pipeline(steps=[\n",
    "    ('preprocessor', ct),\n",
    "    ('regressor', QuadraticDiscriminantAnalysis())\n",
    "])\n",
    "\n",
    "# Create grid for tuning\n",
    "qda_params = {'regressor__reg_param': [0.0, 0.01, 0.1, 0.5]}\n",
    "\n",
    "# Perform grid search\n",
    "qda_grid = GridSearchCV(pipeline_qda, qda_params, cv=5, scoring='f1')\n",
    "best_qda = qda_grid.fit(X_train, y_train)\n",
    "\n",
    "y_pred_qda = qda_grid.best_estimator_.predict(X_test)\n",
    "print(f\"Best QDA parameters: {qda_grid.best_params_}\")\n",
    "print(f\"\\nBest F1 Score: {qda_grid.best_score_}\")\n",
    "print(\"\\nConfusion Matrix:\\n\",confusion_matrix(y_test, y_pred_qda))"
   ]
  },
  {
   "cell_type": "markdown",
   "metadata": {},
   "source": [
    "#### Q3: SVC\n"
   ]
  },
  {
   "cell_type": "code",
   "execution_count": 51,
   "metadata": {},
   "outputs": [
    {
     "name": "stdout",
     "output_type": "stream",
     "text": [
      "Best SVC parameters: {'regressor__C': 1, 'regressor__gamma': 'scale', 'regressor__kernel': 'linear'}\n",
      "\n",
      "Best F1 Score: 0.8060520438282255\n",
      "\n",
      "Confusion Matrix:\n",
      " [[150  15]\n",
      " [ 21  81]]\n"
     ]
    }
   ],
   "source": [
    "pipeline_svc = Pipeline([\n",
    "    ('preprocessor', ct),\n",
    "    ('regressor', SVC(probability=True))  # SVC with probability enabled\n",
    "])\n",
    "\n",
    "# Create grid for tuning\n",
    "param_grid = {\n",
    "    'regressor__C': [0.01, 0.1, 1],  # Regularization parameter\n",
    "    'regressor__kernel': ['linear', 'rbf'], \n",
    "    'regressor__gamma': ['scale', 'auto']\n",
    "}\n",
    "# Perform grid search\n",
    "svc_grid = GridSearchCV(pipeline_svc, param_grid, cv=5, scoring='f1')\n",
    "best_svc = svc_grid.fit(X_train, y_train)\n",
    "\n",
    "y_pred_svc = svc_grid.best_estimator_.predict(X_test)\n",
    "print(f\"Best SVC parameters: {svc_grid.best_params_}\")\n",
    "print(f\"\\nBest F1 Score: {svc_grid.best_score_}\")\n",
    "print(\"\\nConfusion Matrix:\\n\",confusion_matrix(y_test, y_pred_svc))"
   ]
  },
  {
   "cell_type": "markdown",
   "metadata": {},
   "source": [
    "#### Q4: SVM\n"
   ]
  },
  {
   "cell_type": "code",
   "execution_count": 52,
   "metadata": {},
   "outputs": [
    {
     "name": "stdout",
     "output_type": "stream",
     "text": [
      "Best SVC parameters: {'regressor__C': 1, 'regressor__coef0': 0.0, 'regressor__degree': 2}\n",
      "\n",
      "Best F1 Score: 0.7776665752933463\n",
      "\n",
      "Confusion Matrix:\n",
      " [[154  11]\n",
      " [ 21  81]]\n"
     ]
    }
   ],
   "source": [
    "pipeline_sva = Pipeline([\n",
    "    ('preprocessor', ct),\n",
    "    ('regressor', SVC(probability=True, kernel= \"poly\")) \n",
    "])\n",
    "\n",
    "# Create grid for tuning\n",
    "param_grid = {'regressor__C': [0.1, 1, 10], \n",
    "              'regressor__degree': [2, 3, 4], \n",
    "              'regressor__coef0': [0.0, 1.0]\n",
    "              }\n",
    "\n",
    "# Perform grid search\n",
    "sva_grid = GridSearchCV(pipeline_svc, param_grid, cv=5, scoring='f1')\n",
    "best_sva = sva_grid.fit(X_train, y_train)\n",
    "\n",
    "y_pred_sva = sva_grid.best_estimator_.predict(X_test)\n",
    "print(f\"Best SVC parameters: {sva_grid.best_params_}\")\n",
    "print(f\"\\nBest F1 Score: {sva_grid.best_score_}\")\n",
    "print(\"\\nConfusion Matrix:\\n\",confusion_matrix(y_test, y_pred_sva))"
   ]
  },
  {
   "cell_type": "markdown",
   "metadata": {},
   "source": [
    "Through our analysis, we found that the Linear Discriminant Analysis model produced the best F1 score. Thus is the best at predicting the strand type."
   ]
  },
  {
   "cell_type": "markdown",
   "metadata": {},
   "source": [
    "\n",
    "# Part Two: Natural Multiclass\n",
    "Now use the full dataset, including the Hybrid strains.\n"
   ]
  },
  {
   "cell_type": "code",
   "execution_count": 55,
   "metadata": {},
   "outputs": [],
   "source": [
    "can_drop = can.drop(columns= [\"Effects\",\"Flavor\", \"Strain\"])\n",
    "can_drop_na = can_drop.dropna()\n",
    "can_drop_na\n",
    "\n",
    "y = can_drop_na[\"Type\"]\n",
    "X = can_drop_na.drop(columns= \"Type\")\n",
    "X_train, X_test, y_train, y_test = train_test_split(X, y, random_state=42, stratify=y)"
   ]
  },
  {
   "cell_type": "markdown",
   "metadata": {},
   "source": [
    "\n",
    "#### Q1: Fit a decision tree, plot the final fit, and interpret the results.\n"
   ]
  },
  {
   "cell_type": "code",
   "execution_count": 73,
   "metadata": {},
   "outputs": [
    {
     "name": "stdout",
     "output_type": "stream",
     "text": [
      "Best Decision Tree parameters: {'regressor__max_depth': 3, 'regressor__min_samples_leaf': 1, 'regressor__min_samples_split': 2}\n",
      "\n",
      "Best F1 Score: 0.6228433087130927\n"
     ]
    }
   ],
   "source": [
    "from sklearn.tree import DecisionTreeClassifier\n",
    "\n",
    "# Define pipeline for Decision Tree\n",
    "pipeline_dt = Pipeline(steps=[\n",
    "    ('preprocessor', ct),\n",
    "    ('regressor', DecisionTreeClassifier(random_state=42))\n",
    "])\n",
    "\n",
    "# Create grid for tuning\n",
    "tree_params = {\n",
    "    'regressor__max_depth': range(1, 5), \n",
    "    'regressor__min_samples_split': range(2, 5),\n",
    "    'regressor__min_samples_leaf': [1, 2, 4],\n",
    "                }\n",
    "tree_grid = GridSearchCV(pipeline_dt, tree_params, cv=5, scoring='f1_weighted')\n",
    "best_tree = tree_grid.fit(X_train, y_train)\n",
    "\n",
    "print(f\"Best Decision Tree parameters: {tree_grid.best_params_}\")\n",
    "print(f\"\\nBest F1 Score: {tree_grid.best_score_}\")"
   ]
  },
  {
   "cell_type": "code",
   "execution_count": 71,
   "metadata": {},
   "outputs": [
    {
     "data": {
      "image/png": "[encoded data removed]",
      "text/plain": [
       "<Figure size 1200x800 with 1 Axes>"
      ]
     },
     "metadata": {},
     "output_type": "display_data"
    }
   ],
   "source": [
    "from sklearn.tree import plot_tree\n",
    "import matplotlib.pyplot as plt\n",
    "\n",
    "# Extract the preprocessor from the pipeline\n",
    "preprocessor = tree_grid.best_estimator_.named_steps['preprocessor']\n",
    "\n",
    "# Get feature names from the preprocessor\n",
    "if hasattr(preprocessor, 'get_feature_names_out'):  # Check for compatibility\n",
    "    feature_names = preprocessor.get_feature_names_out()\n",
    "else:\n",
    "    feature_names = X_train.columns  # Fallback if not using transformers\n",
    "from sklearn.tree import plot_tree\n",
    "import matplotlib.pyplot as plt\n",
    "\n",
    "# Extract the best decision tree model\n",
    "best_dt_model = tree_grid.best_estimator_.named_steps['regressor']\n",
    "\n",
    "# Plot the decision tree\n",
    "plt.figure(figsize=(12, 8))\n",
    "plot_tree(best_dt_model, \n",
    "          feature_names=feature_names,  # Use adjusted feature names\n",
    "          class_names=tree_grid.classes_,  # Automatically fetch class names\n",
    "          filled=True, \n",
    "          rounded=True)\n",
    "plt.title(\"Decision Tree Visualization\")\n",
    "plt.show()\n"
   ]
  },
  {
   "cell_type": "markdown",
   "metadata": {},
   "source": [
    "Here we see we get a decision tree with 8 leaf nodes, corresponding to an F1 score of 0.6228433087130927. We can see that the model looks for if the strain made the person sleepy or not to first indicate strand. Also we can see that there is only one path leading to a sativa classification, which may be why the score is lower than the last section. "
   ]
  },
  {
   "cell_type": "markdown",
   "metadata": {},
   "source": [
    "\n",
    "#### Q2: Repeat the analyses from Part One for LDA, QDA, and KNN.\n",
    "\n",
    "LDA:"
   ]
  },
  {
   "cell_type": "code",
   "execution_count": 66,
   "metadata": {},
   "outputs": [
    {
     "name": "stdout",
     "output_type": "stream",
     "text": [
      "Best LDA parameters: {'regressor__tol': 0.0001}\n",
      "\n",
      "Best F1 Score: 0.6279208570506094\n",
      "\n",
      "Confusion Matrix:\n",
      " [[185  55  57]\n",
      " [ 50 115   7]\n",
      " [ 53   6  49]]\n"
     ]
    }
   ],
   "source": [
    "pipeline_lda = Pipeline(steps=[\n",
    "    ('preprocessor', ct),\n",
    "    ('regressor', LinearDiscriminantAnalysis(solver='lsqr', shrinkage='auto'))\n",
    "])\n",
    "\n",
    "# Create grid for tuning\n",
    "lda_params = { \n",
    "    'regressor__tol': [1e-4, 1e-3, 1e-2]  # Tolerance for optimization\n",
    "}\n",
    "\n",
    "# Perform grid search\n",
    "lda_grid = GridSearchCV(pipeline_lda, lda_params, cv=5, scoring='f1_weighted')\n",
    "best_lda = lda_grid.fit(X_train, y_train)\n",
    "\n",
    "y_pred_lda = lda_grid.best_estimator_.predict(X_test)\n",
    "print(f\"Best LDA parameters: {lda_grid.best_params_}\")\n",
    "print(f\"\\nBest F1 Score: {lda_grid.best_score_}\")\n",
    "print(\"\\nConfusion Matrix:\\n\",confusion_matrix(y_test, y_pred_lda))"
   ]
  },
  {
   "cell_type": "markdown",
   "metadata": {},
   "source": [
    "QDA:"
   ]
  },
  {
   "cell_type": "code",
   "execution_count": 68,
   "metadata": {},
   "outputs": [
    {
     "name": "stdout",
     "output_type": "stream",
     "text": [
      "Best QDA parameters: {'regressor__reg_param': 0.5}\n",
      "\n",
      "Best F1 Score: 0.4821340908513546\n",
      "\n",
      "Confusion Matrix:\n",
      " [[105  94  98]\n",
      " [ 35 124  13]\n",
      " [ 36  16  56]]\n"
     ]
    }
   ],
   "source": [
    "import warnings\n",
    "warnings.filterwarnings(\"ignore\", category=UserWarning)\n",
    "\n",
    "\n",
    "pipeline_qda = Pipeline(steps=[\n",
    "    ('preprocessor', ct),\n",
    "    ('regressor', QuadraticDiscriminantAnalysis())\n",
    "])\n",
    "\n",
    "# Create grid for tuning\n",
    "qda_params = {'regressor__reg_param': [0.0, 0.01, 0.1, 0.5]}\n",
    "\n",
    "# Perform grid search\n",
    "qda_grid = GridSearchCV(pipeline_qda, qda_params, cv=5, scoring='f1_weighted')\n",
    "best_qda = qda_grid.fit(X_train, y_train)\n",
    "\n",
    "y_pred_qda = qda_grid.best_estimator_.predict(X_test)\n",
    "print(f\"Best QDA parameters: {qda_grid.best_params_}\")\n",
    "print(f\"\\nBest F1 Score: {qda_grid.best_score_}\")\n",
    "print(\"\\nConfusion Matrix:\\n\",confusion_matrix(y_test, y_pred_qda))"
   ]
  },
  {
   "cell_type": "markdown",
   "metadata": {},
   "source": [
    "KNN: "
   ]
  },
  {
   "cell_type": "code",
   "execution_count": 74,
   "metadata": {},
   "outputs": [
    {
     "name": "stdout",
     "output_type": "stream",
     "text": [
      "Best KNN parameters: {'regressor__n_neighbors': 19}\n",
      "\n",
      "Best F1 Score: 0.5492749514234664\n",
      "\n",
      "Confusion Matrix:\n",
      " [[247  36  14]\n",
      " [ 91  79   2]\n",
      " [ 94   1  13]]\n"
     ]
    }
   ],
   "source": [
    "from sklearn.neighbors import KNeighborsClassifier\n",
    "\n",
    "pipeline_KNN = Pipeline(steps=[\n",
    "    ('preprocessor', ct),\n",
    "    ('regressor', KNeighborsClassifier())\n",
    "])\n",
    "# Create grid for tuning\n",
    "knn_params = {'regressor__n_neighbors': range(1, 21)}\n",
    "knn_grid = GridSearchCV(pipeline_KNN, knn_params, cv=5, scoring='f1_weighted')\n",
    "best_knn = knn_grid.fit(X_train, y_train)\n",
    "\n",
    "y_pred_knn = knn_grid.best_estimator_.predict(X_test)\n",
    "print(f\"Best KNN parameters: {knn_grid.best_params_}\")\n",
    "print(f\"\\nBest F1 Score: {knn_grid.best_score_}\")\n",
    "print(\"\\nConfusion Matrix:\\n\",confusion_matrix(y_test, y_pred_knn))\n",
    "\n",
    "class_order = np.unique(y_train)  # Replace with y_test if needed"
   ]
  },
  {
   "cell_type": "markdown",
   "metadata": {},
   "source": [
    "\n",
    "#### Q3: Were your metrics better or worse than in Part One? Why? Which categories were most likely to get mixed up, according to the confusion matrices? Why?\n",
    "\n",
    "We found that the metrics were much worse when adding in a third type. This makes sense as `hybrid` is a mix of both `sativa` and `indica`, so misclassification is inevitable. This is reflected in our confusion matrices as well. (key: class0-hybrid, class1-indica, class2- sativa)\n",
    "\n",
    "- **LDA**:  We see hybrid being classified the most and having the most misclassifications in the model because of the confusion of hybrid being added to the data frame. \n",
    "\n",
    "- **QDA**: Follows a slightly different pattern in having the most correct classifications be for the indica type. However we see again the downfall of the addition of hybris as 192 strains were misclassified as hybrid. \n",
    "\n",
    "- **KNN**: Again we see a huge amount of misclassifications. This time 185 strains being classified as non-hybrid when they are. \n"
   ]
  },
  {
   "cell_type": "markdown",
   "metadata": {},
   "source": [
    "\n",
    "# Part Three: Multiclass from Binary\n",
    "Consider two models designed for binary classification: SVC and Logistic Regression.\n",
    "\n",
    "\n",
    "#### Q1: Fit and report metrics for OvR versions of the models. That is, for each of the two model types, create three models:\n"
   ]
  },
  {
   "cell_type": "code",
   "execution_count": 77,
   "metadata": {},
   "outputs": [],
   "source": [
    "from sklearn.linear_model import LogisticRegression\n",
    "\n",
    "pipeline_svc = Pipeline([\n",
    "    ('preprocessor', ct),\n",
    "    ('regressor', SVC(probability=True))  # SVC with probability enabled\n",
    "])\n",
    "\n",
    "# Create grid for tuning\n",
    "param_grid = {\n",
    "    'regressor__C': [0.01, 0.1, 1],  # Regularization parameter\n",
    "    'regressor__kernel': ['linear', 'rbf'], \n",
    "    'regressor__gamma': ['scale', 'auto']\n",
    "}\n",
    "\n",
    "pipeline_logistic = Pipeline([\n",
    "    ('preprocessor', ct),\n",
    "    ('regressor', LogisticRegression(max_iter=1000))\n",
    "])\n",
    "# Create grid for tuning\n",
    "logreg_params = {'regressor__C': [0.01, 0.1, 1, 10, 100]}"
   ]
  },
  {
   "cell_type": "markdown",
   "metadata": {},
   "source": [
    "\n",
    "- Indica vs. Not Indica\n"
   ]
  },
  {
   "cell_type": "code",
   "execution_count": 84,
   "metadata": {},
   "outputs": [
    {
     "name": "stdout",
     "output_type": "stream",
     "text": [
      "Best SVC parameters: {'regressor__C': 0.01, 'regressor__gamma': 'scale', 'regressor__kernel': 'linear'}\n",
      "Best F1 Score: 0.6641331063750833\n",
      "\n",
      "Best Logistic parameters: {'regressor__C': 10}\n",
      "Best F1 Score: 0.6607505819568624\n"
     ]
    }
   ],
   "source": [
    "can_drop_na = can_drop_na.copy()\n",
    "can_drop_na.loc[:, \"indica\"] = (can_drop_na[\"Type\"] == \"indica\").astype(int)\n",
    "\n",
    "X = can_drop_na.drop(columns= [\"Type\", \"indica\"])\n",
    "y = can_drop_na[\"indica\"]\n",
    "X_train, X_test, y_train, y_test = train_test_split(X, y, random_state=42, stratify=y)\n",
    "\n",
    "# SVC\n",
    "svc_grid = GridSearchCV(pipeline_svc, param_grid, cv=5, scoring='f1')\n",
    "best_svc = svc_grid.fit(X_train, y_train)\n",
    "y_pred_svc = svc_grid.best_estimator_.predict(X_test)\n",
    "print(f\"Best SVC parameters: {svc_grid.best_params_}\")\n",
    "print(f\"Best F1 Score: {svc_grid.best_score_}\\n\")\n",
    "\n",
    "# Logistic\n",
    "logreg_grid = GridSearchCV(pipeline_logistic, logreg_params, cv=5, scoring='f1')\n",
    "best_logreg = logreg_grid.fit(X_train, y_train)\n",
    "print(f\"Best Logistic parameters: {logreg_grid.best_params_}\")\n",
    "print(f\"Best F1 Score: {logreg_grid.best_score_}\")"
   ]
  },
  {
   "cell_type": "markdown",
   "metadata": {},
   "source": [
    "\n",
    "- Sativa vs. Not Sativa\n"
   ]
  },
  {
   "cell_type": "code",
   "execution_count": 83,
   "metadata": {},
   "outputs": [
    {
     "name": "stdout",
     "output_type": "stream",
     "text": [
      "Best SVC parameters: {'regressor__C': 1, 'regressor__gamma': 'scale', 'regressor__kernel': 'linear'}\n",
      "Best F1 Score: 0.1601410934744268\n",
      "\n",
      "Best Logistic parameters: {'regressor__C': 1}\n",
      "Best F1 Score: 0.39034306760080484\n"
     ]
    }
   ],
   "source": [
    "can_drop_na = can_drop_na.copy() \n",
    "can_drop_na.loc[:, \"sativa\"] = (can_drop_na[\"Type\"] == \"sativa\").astype(int)\n",
    "\n",
    "X = can_drop_na.drop(columns= [\"Type\", \"indica\", \"sativa\"])\n",
    "y = can_drop_na[\"sativa\"]\n",
    "X_train, X_test, y_train, y_test = train_test_split(X, y, random_state=42, stratify=y)\n",
    "\n",
    "# SVC\n",
    "svc_grid = GridSearchCV(pipeline_svc, param_grid, cv=5, scoring='f1')\n",
    "best_svc = svc_grid.fit(X_train, y_train)\n",
    "y_pred_svc = svc_grid.best_estimator_.predict(X_test)\n",
    "print(f\"Best SVC parameters: {svc_grid.best_params_}\")\n",
    "print(f\"Best F1 Score: {svc_grid.best_score_}\\n\")\n",
    "\n",
    "# Logistic\n",
    "logreg_grid = GridSearchCV(pipeline_logistic, logreg_params, cv=5, scoring='f1')\n",
    "best_logreg = logreg_grid.fit(X_train, y_train)\n",
    "print(f\"Best Logistic parameters: {logreg_grid.best_params_}\")\n",
    "print(f\"Best F1 Score: {logreg_grid.best_score_}\")"
   ]
  },
  {
   "cell_type": "markdown",
   "metadata": {},
   "source": [
    "\n",
    "- Hybrid vs. Not Hybrid\n"
   ]
  },
  {
   "cell_type": "code",
   "execution_count": 85,
   "metadata": {},
   "outputs": [
    {
     "name": "stdout",
     "output_type": "stream",
     "text": [
      "Best SVC parameters: {'regressor__C': 0.1, 'regressor__gamma': 'scale', 'regressor__kernel': 'rbf'}\n",
      "Best F1 Score: 0.6897385801075787\n",
      "\n",
      "Best Logistic parameters: {'regressor__C': 0.01}\n",
      "Best F1 Score: 0.6384497274147127\n"
     ]
    }
   ],
   "source": [
    "can_drop_na = can_drop_na.copy()\n",
    "can_drop_na.loc[:, \"hybrid\"] = (can_drop_na[\"Type\"] == \"hybrid\").astype(int)\n",
    "\n",
    "X = can_drop_na.drop(columns= [\"Type\", \"indica\", \"sativa\", \"hybrid\"])\n",
    "y = can_drop_na[\"hybrid\"]\n",
    "X_train, X_test, y_train, y_test = train_test_split(X, y, random_state=42, stratify=y)\n",
    "\n",
    "# SVC\n",
    "svc_grid = GridSearchCV(pipeline_svc, param_grid, cv=5, scoring='f1')\n",
    "best_svc = svc_grid.fit(X_train, y_train)\n",
    "y_pred_svc = svc_grid.best_estimator_.predict(X_test)\n",
    "print(f\"Best SVC parameters: {svc_grid.best_params_}\")\n",
    "print(f\"Best F1 Score: {svc_grid.best_score_}\\n\")\n",
    "\n",
    "# Logistic\n",
    "logreg_grid = GridSearchCV(pipeline_logistic, logreg_params, cv=5, scoring='f1')\n",
    "best_logreg = logreg_grid.fit(X_train, y_train)\n",
    "print(f\"Best Logistic parameters: {logreg_grid.best_params_}\")\n",
    "print(f\"Best F1 Score: {logreg_grid.best_score_}\")"
   ]
  },
  {
   "cell_type": "markdown",
   "metadata": {},
   "source": [
    "\n",
    "#### Q2: Which of the six models did the best job distinguishing the target category from the rest? Which did the worst? Does this make intuitive sense?\n",
    "\n",
    "Out of the six models the one that performed teh best was SVC with hybrid vs non-hybrid with the two models for indica vs non-indica coming in as very close seconds and sativa vs non-sativa far in last. It made sense that the sativa test would do the worst because looking at the confusion matrices we found before, we saw that there were the least amount of types that were sativa and they were often misclassified. Then, since there were the most hybrid types, it makes sense that the model would perform better as it has much more data to read. Finally, with our close second indica, we can look back at our decision tree to understand why these types were classified correctly. We saw in the tree that if a stain had a `sleepy` effect it would push to the side that predicted indica 75% of the time. Thus, these results make intuitive sense. \n",
    "\n",
    "#### Q3: Fit and report metrics for OvO versions of the models. That is, for each of the two model types, create three models:\n"
   ]
  },
  {
   "cell_type": "code",
   "execution_count": 90,
   "metadata": {},
   "outputs": [],
   "source": [
    "can_drop_na = can_drop_na.copy()\n",
    "can_reset = can_drop_na.drop(columns= [\"indica\", \"sativa\", \"hybrid\"])"
   ]
  },
  {
   "cell_type": "markdown",
   "metadata": {},
   "source": [
    "\n",
    "- Indica vs. Sativa\n"
   ]
  },
  {
   "cell_type": "code",
   "execution_count": 92,
   "metadata": {},
   "outputs": [
    {
     "name": "stdout",
     "output_type": "stream",
     "text": [
      "Best SVC parameters: {'regressor__C': 0.01, 'regressor__gamma': 'scale', 'regressor__kernel': 'linear'}\n",
      "Best F1 Score: 0.8352346996076838\n",
      "\n",
      "Best Logistic parameters: {'regressor__C': 0.1}\n",
      "Best F1 Score: 0.8380387887257985\n"
     ]
    }
   ],
   "source": [
    "can_i_s = can_reset[(can_reset[\"Type\"] == \"indica\") | (can_reset[\"Type\"] == \"sativa\")]\n",
    "\n",
    "X = can_i_s.drop(columns= [\"Type\"])\n",
    "y = can_i_s[\"Type\"]\n",
    "X_train, X_test, y_train, y_test = train_test_split(X, y, random_state=42, stratify=y)\n",
    "\n",
    "# SVC\n",
    "svc_grid = GridSearchCV(pipeline_svc, param_grid, cv=5, scoring='f1_weighted')\n",
    "best_svc = svc_grid.fit(X_train, y_train)\n",
    "y_pred_svc = svc_grid.best_estimator_.predict(X_test)\n",
    "print(f\"Best SVC parameters: {svc_grid.best_params_}\")\n",
    "print(f\"Best F1 Score: {svc_grid.best_score_}\\n\")\n",
    "\n",
    "# Logistic\n",
    "logreg_grid = GridSearchCV(pipeline_logistic, logreg_params, cv=5, scoring='f1_weighted')\n",
    "best_logreg = logreg_grid.fit(X_train, y_train)\n",
    "print(f\"Best Logistic parameters: {logreg_grid.best_params_}\")\n",
    "print(f\"Best F1 Score: {logreg_grid.best_score_}\")"
   ]
  },
  {
   "cell_type": "markdown",
   "metadata": {},
   "source": [
    "\n",
    "- Indica vs. Hybrid\n"
   ]
  },
  {
   "cell_type": "code",
   "execution_count": 93,
   "metadata": {},
   "outputs": [
    {
     "name": "stdout",
     "output_type": "stream",
     "text": [
      "Best SVC parameters: {'regressor__C': 0.01, 'regressor__gamma': 'scale', 'regressor__kernel': 'linear'}\n",
      "Best F1 Score: 0.7532435116993734\n",
      "\n",
      "Best Logistic parameters: {'regressor__C': 0.1}\n",
      "Best F1 Score: 0.7450054979651556\n"
     ]
    }
   ],
   "source": [
    "can_i_h = can_reset[(can_reset[\"Type\"] == \"indica\") | (can_reset[\"Type\"] == \"hybrid\")]\n",
    "\n",
    "X = can_i_h.drop(columns= [\"Type\"])\n",
    "y = can_i_h[\"Type\"]\n",
    "X_train, X_test, y_train, y_test = train_test_split(X, y, random_state=42, stratify=y)\n",
    "\n",
    "# SVC\n",
    "svc_grid = GridSearchCV(pipeline_svc, param_grid, cv=5, scoring='f1_weighted')\n",
    "best_svc = svc_grid.fit(X_train, y_train)\n",
    "y_pred_svc = svc_grid.best_estimator_.predict(X_test)\n",
    "print(f\"Best SVC parameters: {svc_grid.best_params_}\")\n",
    "print(f\"Best F1 Score: {svc_grid.best_score_}\\n\")\n",
    "\n",
    "# Logistic\n",
    "logreg_grid = GridSearchCV(pipeline_logistic, logreg_params, cv=5, scoring='f1_weighted')\n",
    "best_logreg = logreg_grid.fit(X_train, y_train)\n",
    "print(f\"Best Logistic parameters: {logreg_grid.best_params_}\")\n",
    "print(f\"Best F1 Score: {logreg_grid.best_score_}\")"
   ]
  },
  {
   "cell_type": "markdown",
   "metadata": {},
   "source": [
    "\n",
    "- Hybrid vs. Sativa\n"
   ]
  },
  {
   "cell_type": "code",
   "execution_count": 94,
   "metadata": {},
   "outputs": [
    {
     "name": "stdout",
     "output_type": "stream",
     "text": [
      "Best SVC parameters: {'regressor__C': 1, 'regressor__gamma': 'scale', 'regressor__kernel': 'linear'}\n",
      "Best F1 Score: 0.7275708083005606\n",
      "\n",
      "Best Logistic parameters: {'regressor__C': 1}\n",
      "Best F1 Score: 0.7289286846309435\n"
     ]
    }
   ],
   "source": [
    "can_h_s = can_reset[(can_reset[\"Type\"] == \"hybrid\") | (can_reset[\"Type\"] == \"sativa\")]\n",
    "\n",
    "X = can_h_s.drop(columns= [\"Type\"])\n",
    "y = can_h_s[\"Type\"]\n",
    "X_train, X_test, y_train, y_test = train_test_split(X, y, random_state=42, stratify=y)\n",
    "\n",
    "# SVC\n",
    "svc_grid = GridSearchCV(pipeline_svc, param_grid, cv=5, scoring='f1_weighted')\n",
    "best_svc = svc_grid.fit(X_train, y_train)\n",
    "y_pred_svc = svc_grid.best_estimator_.predict(X_test)\n",
    "print(f\"Best SVC parameters: {svc_grid.best_params_}\")\n",
    "print(f\"Best F1 Score: {svc_grid.best_score_}\\n\")\n",
    "\n",
    "# Logistic\n",
    "logreg_grid = GridSearchCV(pipeline_logistic, logreg_params, cv=5, scoring='f1_weighted')\n",
    "best_logreg = logreg_grid.fit(X_train, y_train)\n",
    "print(f\"Best Logistic parameters: {logreg_grid.best_params_}\")\n",
    "print(f\"Best F1 Score: {logreg_grid.best_score_}\")"
   ]
  },
  {
   "cell_type": "markdown",
   "metadata": {},
   "source": [
    "\n",
    "#### Q4: Which of the six models did the best job distinguishing at differentiating the two groups? Which did the worst? Does this make intuitive sense?\n",
    "\n",
    "Here with no surprise we see that the best models were the ones using sativa vs indica. This makes sense as the two types are the most dissimilar. Then we see that the indica vs hybrid performed second best, potentially due to the difference in the `sleepy` parameter. Finally, the hybris vs sativa performed the worst because the two types have too many similarities. These results make sense as they reflect where there are key differences between the strains. \n",
    "\n",
    "#### Q5: Suppose you had simply input the full data, with three classes, into the LogisticRegression function. Would this have automatically taken an “OvO” approach or an “OvR” approach?\n",
    "#### What about for SVC?\n",
    "*Note: You do not actually have to run code here - you only need to look at sklearn’s documentation to see how these functions handle multiclass input.*\n",
    "\n",
    "\n",
    "Both Logistic Regression and SVC typically use the One-vs-Rest (OvR) approach for multiclass classification because it's simpler and more efficient when dealing with multiple classes. In this method, for each class, a separate model is created to distinguish that class from all the others. This makes it easier to implement, especially when there are many classes, as it reduces the complexity of creating models for every possible pair of classes. Since OvR is easier to scale and understand, it’s often the default approach for these models."
   ]
  }
 ],
 "metadata": {
  "kernelspec": {
   "display_name": "Python 3",
   "language": "python",
   "name": "python3"
  },
  "language_info": {
   "codemirror_mode": {
    "name": "ipython",
    "version": 3
   },
   "file_extension": ".py",
   "mimetype": "text/x-python",
   "name": "python",
   "nbconvert_exporter": "python",
   "pygments_lexer": "ipython3",
   "version": "3.10.1"
  }
 },
 "nbformat": 4,
 "nbformat_minor": 2
}
